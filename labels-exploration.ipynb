{
 "cells": [
  {
   "cell_type": "code",
   "execution_count": 2,
   "metadata": {},
   "outputs": [],
   "source": [
    "import pandas as pd"
   ]
  },
  {
   "cell_type": "code",
   "execution_count": 3,
   "metadata": {},
   "outputs": [
    {
     "name": "stdout",
     "output_type": "stream",
     "text": [
      "DeepWeeds/labels\n",
      "├── labels.csv\n",
      "├── test_subset0.csv\n",
      "├── test_subset1.csv\n",
      "├── test_subset2.csv\n",
      "├── test_subset3.csv\n",
      "├── test_subset4.csv\n",
      "├── train_subset0.csv\n",
      "├── train_subset1.csv\n",
      "├── train_subset2.csv\n",
      "├── train_subset3.csv\n",
      "├── train_subset4.csv\n",
      "├── val_subset0.csv\n",
      "├── val_subset1.csv\n",
      "├── val_subset2.csv\n",
      "├── val_subset3.csv\n",
      "└── val_subset4.csv\n",
      "\n",
      "0 directories, 16 files\n"
     ]
    }
   ],
   "source": [
    "!tree DeepWeeds/labels"
   ]
  },
  {
   "cell_type": "code",
   "execution_count": 5,
   "metadata": {},
   "outputs": [],
   "source": [
    "# read all the image files labelling\n",
    "df = pd.read_csv('DeepWeeds/labels/labels.csv')"
   ]
  },
  {
   "cell_type": "code",
   "execution_count": 10,
   "metadata": {},
   "outputs": [
    {
     "name": "stdout",
     "output_type": "stream",
     "text": [
      "(9,)\n"
     ]
    },
    {
     "data": {
      "text/plain": [
       "array(['Chinee apple', 'Lantana', 'Negative', 'Snake weed', 'Siam weed',\n",
       "       'Prickly acacia', 'Parthenium', 'Rubber vine', 'Parkinsonia'],\n",
       "      dtype=object)"
      ]
     },
     "execution_count": 10,
     "metadata": {},
     "output_type": "execute_result"
    }
   ],
   "source": [
    "species = df['Species'].unique()\n",
    "print(species.shape)\n",
    "species"
   ]
  },
  {
   "cell_type": "code",
   "execution_count": 15,
   "metadata": {},
   "outputs": [
    {
     "data": {
      "text/plain": [
       "Negative          9106\n",
       "Chinee apple      1125\n",
       "Siam weed         1074\n",
       "Lantana           1064\n",
       "Prickly acacia    1062\n",
       "Parkinsonia       1031\n",
       "Parthenium        1022\n",
       "Snake weed        1016\n",
       "Rubber vine       1009\n",
       "Name: Species, dtype: int64"
      ]
     },
     "execution_count": 15,
     "metadata": {},
     "output_type": "execute_result"
    }
   ],
   "source": [
    "df['Species'].value_counts(dropna=True)"
   ]
  },
  {
   "cell_type": "code",
   "execution_count": 18,
   "metadata": {},
   "outputs": [],
   "source": [
    "import seaborn as sns\n",
    "import matplotlib.pyplot as plt"
   ]
  },
  {
   "cell_type": "code",
   "execution_count": 24,
   "metadata": {},
   "outputs": [
    {
     "data": {
      "image/png": "[encoded data removed]",
      "text/plain": [
       "<Figure size 1080x360 with 1 Axes>"
      ]
     },
     "metadata": {
      "needs_background": "light"
     },
     "output_type": "display_data"
    }
   ],
   "source": [
    "plt.figure(figsize=(15,5))\n",
    "ax = sns.countplot(df['Species'])"
   ]
  }
 ],
 "metadata": {
  "kernelspec": {
   "display_name": "Python 3",
   "language": "python",
   "name": "python3"
  },
  "language_info": {
   "codemirror_mode": {
    "name": "ipython",
    "version": 3
   },
   "file_extension": ".py",
   "mimetype": "text/x-python",
   "name": "python",
   "nbconvert_exporter": "python",
   "pygments_lexer": "ipython3",
   "version": "3.6.8"
  }
 },
 "nbformat": 4,
 "nbformat_minor": 4
}
